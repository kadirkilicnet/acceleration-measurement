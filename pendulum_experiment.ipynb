{
 "cells": [
  {
   "cell_type": "markdown",
   "metadata": {},
   "source": [
    "# Pendulum Experiment"
   ]
  },
  {
   "cell_type": "code",
   "execution_count": 1,
   "metadata": {},
   "outputs": [],
   "source": [
    "import pandas as pd\n",
    "import matplotlib.pyplot as plt\n",
    "from scipy import signal\n",
    "import numpy as np\n",
    "import math"
   ]
  },
  {
   "cell_type": "markdown",
   "metadata": {},
   "source": [
    "## Natural Frequency Dataset 1"
   ]
  },
  {
   "cell_type": "code",
   "execution_count": 2,
   "metadata": {
    "scrolled": false
   },
   "outputs": [
    {
     "data": {
      "text/html": [
       "<div>\n",
       "<style scoped>\n",
       "    .dataframe tbody tr th:only-of-type {\n",
       "        vertical-align: middle;\n",
       "    }\n",
       "\n",
       "    .dataframe tbody tr th {\n",
       "        vertical-align: top;\n",
       "    }\n",
       "\n",
       "    .dataframe thead th {\n",
       "        text-align: right;\n",
       "    }\n",
       "</style>\n",
       "<table border=\"1\" class=\"dataframe\">\n",
       "  <thead>\n",
       "    <tr style=\"text-align: right;\">\n",
       "      <th></th>\n",
       "      <th>Time (s)</th>\n",
       "      <th>Acceleration x (m/s^2)</th>\n",
       "      <th>Acceleration y (m/s^2)</th>\n",
       "      <th>Acceleration z (m/s^2)</th>\n",
       "    </tr>\n",
       "  </thead>\n",
       "  <tbody>\n",
       "    <tr>\n",
       "      <td>0</td>\n",
       "      <td>1.221101</td>\n",
       "      <td>0.058326</td>\n",
       "      <td>-0.088369</td>\n",
       "      <td>-0.121135</td>\n",
       "    </tr>\n",
       "    <tr>\n",
       "      <td>1</td>\n",
       "      <td>1.251094</td>\n",
       "      <td>0.043225</td>\n",
       "      <td>-0.047256</td>\n",
       "      <td>-0.086323</td>\n",
       "    </tr>\n",
       "    <tr>\n",
       "      <td>2</td>\n",
       "      <td>1.281086</td>\n",
       "      <td>-0.021947</td>\n",
       "      <td>0.096819</td>\n",
       "      <td>-0.015904</td>\n",
       "    </tr>\n",
       "    <tr>\n",
       "      <td>3</td>\n",
       "      <td>1.311086</td>\n",
       "      <td>-0.064572</td>\n",
       "      <td>0.202555</td>\n",
       "      <td>0.070190</td>\n",
       "    </tr>\n",
       "    <tr>\n",
       "      <td>4</td>\n",
       "      <td>1.341078</td>\n",
       "      <td>-0.093896</td>\n",
       "      <td>-0.050991</td>\n",
       "      <td>0.163202</td>\n",
       "    </tr>\n",
       "    <tr>\n",
       "      <td>...</td>\n",
       "      <td>...</td>\n",
       "      <td>...</td>\n",
       "      <td>...</td>\n",
       "      <td>...</td>\n",
       "    </tr>\n",
       "    <tr>\n",
       "      <td>495</td>\n",
       "      <td>14.716493</td>\n",
       "      <td>0.054402</td>\n",
       "      <td>-0.207927</td>\n",
       "      <td>0.657926</td>\n",
       "    </tr>\n",
       "    <tr>\n",
       "      <td>496</td>\n",
       "      <td>14.736555</td>\n",
       "      <td>-0.179761</td>\n",
       "      <td>-0.020433</td>\n",
       "      <td>-0.155914</td>\n",
       "    </tr>\n",
       "    <tr>\n",
       "      <td>497</td>\n",
       "      <td>14.756617</td>\n",
       "      <td>-0.118703</td>\n",
       "      <td>0.045522</td>\n",
       "      <td>-0.361019</td>\n",
       "    </tr>\n",
       "    <tr>\n",
       "      <td>498</td>\n",
       "      <td>14.776678</td>\n",
       "      <td>-0.095260</td>\n",
       "      <td>-0.079404</td>\n",
       "      <td>-0.190462</td>\n",
       "    </tr>\n",
       "    <tr>\n",
       "      <td>499</td>\n",
       "      <td>14.796740</td>\n",
       "      <td>0.073187</td>\n",
       "      <td>-0.128831</td>\n",
       "      <td>0.255767</td>\n",
       "    </tr>\n",
       "  </tbody>\n",
       "</table>\n",
       "<p>500 rows × 4 columns</p>\n",
       "</div>"
      ],
      "text/plain": [
       "      Time (s)  Acceleration x (m/s^2)  Acceleration y (m/s^2)  \\\n",
       "0     1.221101                0.058326               -0.088369   \n",
       "1     1.251094                0.043225               -0.047256   \n",
       "2     1.281086               -0.021947                0.096819   \n",
       "3     1.311086               -0.064572                0.202555   \n",
       "4     1.341078               -0.093896               -0.050991   \n",
       "..         ...                     ...                     ...   \n",
       "495  14.716493                0.054402               -0.207927   \n",
       "496  14.736555               -0.179761               -0.020433   \n",
       "497  14.756617               -0.118703                0.045522   \n",
       "498  14.776678               -0.095260               -0.079404   \n",
       "499  14.796740                0.073187               -0.128831   \n",
       "\n",
       "     Acceleration z (m/s^2)  \n",
       "0                 -0.121135  \n",
       "1                 -0.086323  \n",
       "2                 -0.015904  \n",
       "3                  0.070190  \n",
       "4                  0.163202  \n",
       "..                      ...  \n",
       "495                0.657926  \n",
       "496               -0.155914  \n",
       "497               -0.361019  \n",
       "498               -0.190462  \n",
       "499                0.255767  \n",
       "\n",
       "[500 rows x 4 columns]"
      ]
     },
     "execution_count": 2,
     "metadata": {},
     "output_type": "execute_result"
    }
   ],
   "source": [
    "first = pd.read_csv('pendulumdata/dataset1.csv')\n",
    "first"
   ]
  },
  {
   "cell_type": "code",
   "execution_count": 3,
   "metadata": {},
   "outputs": [],
   "source": [
    "x = first['Acceleration y (m/s^2)']"
   ]
  },
  {
   "cell_type": "code",
   "execution_count": 4,
   "metadata": {},
   "outputs": [],
   "source": [
    "peaks, _ = signal.find_peaks(x, height=0.25)"
   ]
  },
  {
   "cell_type": "code",
   "execution_count": 5,
   "metadata": {
    "scrolled": true
   },
   "outputs": [
    {
     "data": {
      "text/plain": [
       "[<matplotlib.lines.Line2D at 0x265257c74c8>]"
      ]
     },
     "execution_count": 5,
     "metadata": {},
     "output_type": "execute_result"
    },
    {
     "data": {
      "image/png": "[encoded data removed]",
      "text/plain": [
       "<Figure size 432x288 with 1 Axes>"
      ]
     },
     "metadata": {
      "needs_background": "light"
     },
     "output_type": "display_data"
    }
   ],
   "source": [
    "plt.plot(x)\n",
    "plt.plot(peaks, x[peaks], \"x\")"
   ]
  },
  {
   "cell_type": "code",
   "execution_count": 6,
   "metadata": {
    "scrolled": true
   },
   "outputs": [
    {
     "data": {
      "text/plain": [
       "46     0.550709\n",
       "75     0.548594\n",
       "78     0.415123\n",
       "82     0.757978\n",
       "85     0.804343\n",
       "93     6.823651\n",
       "116    4.775088\n",
       "146    2.759151\n",
       "174    1.479028\n",
       "197    0.591886\n",
       "199    0.570548\n",
       "222    0.381010\n",
       "433    0.467894\n",
       "452    1.363949\n",
       "455    0.601550\n",
       "Name: Acceleration y (m/s^2), dtype: float64"
      ]
     },
     "execution_count": 6,
     "metadata": {},
     "output_type": "execute_result"
    }
   ],
   "source": [
    "x[peaks].head(15)"
   ]
  },
  {
   "cell_type": "code",
   "execution_count": 7,
   "metadata": {
    "scrolled": true
   },
   "outputs": [
    {
     "data": {
      "text/plain": [
       "0.69"
      ]
     },
     "execution_count": 7,
     "metadata": {},
     "output_type": "execute_result"
    }
   ],
   "source": [
    "round(first['Time (s)'].iloc[174]-first['Time (s)'].iloc[146],2)"
   ]
  },
  {
   "cell_type": "code",
   "execution_count": 8,
   "metadata": {
    "scrolled": false
   },
   "outputs": [
    {
     "data": {
      "text/plain": [
       "0.69"
      ]
     },
     "execution_count": 8,
     "metadata": {},
     "output_type": "execute_result"
    }
   ],
   "source": [
    "round(first['Time (s)'].iloc[197]-first['Time (s)'].iloc[174],2)"
   ]
  },
  {
   "cell_type": "code",
   "execution_count": 9,
   "metadata": {
    "scrolled": true
   },
   "outputs": [
    {
     "data": {
      "text/plain": [
       "0.69"
      ]
     },
     "execution_count": 9,
     "metadata": {},
     "output_type": "execute_result"
    }
   ],
   "source": [
    "round(first['Time (s)'].iloc[222]-first['Time (s)'].iloc[199],2)"
   ]
  },
  {
   "cell_type": "code",
   "execution_count": 10,
   "metadata": {},
   "outputs": [
    {
     "data": {
      "text/html": [
       "<div>\n",
       "<style scoped>\n",
       "    .dataframe tbody tr th:only-of-type {\n",
       "        vertical-align: middle;\n",
       "    }\n",
       "\n",
       "    .dataframe tbody tr th {\n",
       "        vertical-align: top;\n",
       "    }\n",
       "\n",
       "    .dataframe thead th {\n",
       "        text-align: right;\n",
       "    }\n",
       "</style>\n",
       "<table border=\"1\" class=\"dataframe\">\n",
       "  <thead>\n",
       "    <tr style=\"text-align: right;\">\n",
       "      <th></th>\n",
       "      <th>t1</th>\n",
       "      <th>t2</th>\n",
       "      <th>x1</th>\n",
       "      <th>x2</th>\n",
       "      <th>T</th>\n",
       "      <th>delta</th>\n",
       "      <th>zeta</th>\n",
       "      <th>omega</th>\n",
       "    </tr>\n",
       "  </thead>\n",
       "  <tbody>\n",
       "    <tr>\n",
       "      <td>0</td>\n",
       "      <td>5.134100</td>\n",
       "      <td>5.824931</td>\n",
       "      <td>2.759151</td>\n",
       "      <td>1.479028</td>\n",
       "      <td>0.690831</td>\n",
       "      <td>0.623538</td>\n",
       "      <td>0.099239</td>\n",
       "      <td>9.095108</td>\n",
       "    </tr>\n",
       "    <tr>\n",
       "      <td>1</td>\n",
       "      <td>5.824931</td>\n",
       "      <td>6.514763</td>\n",
       "      <td>1.479028</td>\n",
       "      <td>0.591886</td>\n",
       "      <td>0.689831</td>\n",
       "      <td>0.915827</td>\n",
       "      <td>0.145758</td>\n",
       "      <td>9.108290</td>\n",
       "    </tr>\n",
       "    <tr>\n",
       "      <td>2</td>\n",
       "      <td>6.574748</td>\n",
       "      <td>7.264580</td>\n",
       "      <td>0.570548</td>\n",
       "      <td>0.381010</td>\n",
       "      <td>0.689832</td>\n",
       "      <td>0.403772</td>\n",
       "      <td>0.064262</td>\n",
       "      <td>9.108290</td>\n",
       "    </tr>\n",
       "  </tbody>\n",
       "</table>\n",
       "</div>"
      ],
      "text/plain": [
       "         t1        t2        x1        x2         T     delta      zeta  \\\n",
       "0  5.134100  5.824931  2.759151  1.479028  0.690831  0.623538  0.099239   \n",
       "1  5.824931  6.514763  1.479028  0.591886  0.689831  0.915827  0.145758   \n",
       "2  6.574748  7.264580  0.570548  0.381010  0.689832  0.403772  0.064262   \n",
       "\n",
       "      omega  \n",
       "0  9.095108  \n",
       "1  9.108290  \n",
       "2  9.108290  "
      ]
     },
     "execution_count": 10,
     "metadata": {},
     "output_type": "execute_result"
    }
   ],
   "source": [
    "t1 = [first['Time (s)'].iloc[146],first['Time (s)'].iloc[174],first['Time (s)'].iloc[199]]\n",
    "nf1 = pd.DataFrame(t1)\n",
    "nf1.rename(columns={nf1.columns[0]:'t1'}, inplace=True)\n",
    "nf1['t2'] = [first['Time (s)'].iloc[174], first['Time (s)'].iloc[197], first['Time (s)'].iloc[222]]\n",
    "nf1['x1'] = [first['Acceleration y (m/s^2)'].iloc[146],first['Acceleration y (m/s^2)'].iloc[174],first['Acceleration y (m/s^2)'].iloc[199]]\n",
    "nf1['x2'] = [first['Acceleration y (m/s^2)'].iloc[174], first['Acceleration y (m/s^2)'].iloc[197], first['Acceleration y (m/s^2)'].iloc[222]]\n",
    "nf1['T'] = nf1['t2'] - nf1['t1']\n",
    "nf1['delta'] = np.log(nf1['x1']/nf1['x2']) # np.log() stands for natural logarithm (ln)\n",
    "nf1['zeta'] = nf1['delta']/(2*math.pi)\n",
    "nf1['omega'] = nf1['delta']/(nf1['zeta']*nf1['T'])\n",
    "nf1.to_excel('nf1.xlsx')\n",
    "nf1"
   ]
  },
  {
   "cell_type": "markdown",
   "metadata": {},
   "source": [
    "## Natural Frequency Dataset 2"
   ]
  },
  {
   "cell_type": "code",
   "execution_count": 11,
   "metadata": {
    "scrolled": true
   },
   "outputs": [
    {
     "data": {
      "text/html": [
       "<div>\n",
       "<style scoped>\n",
       "    .dataframe tbody tr th:only-of-type {\n",
       "        vertical-align: middle;\n",
       "    }\n",
       "\n",
       "    .dataframe tbody tr th {\n",
       "        vertical-align: top;\n",
       "    }\n",
       "\n",
       "    .dataframe thead th {\n",
       "        text-align: right;\n",
       "    }\n",
       "</style>\n",
       "<table border=\"1\" class=\"dataframe\">\n",
       "  <thead>\n",
       "    <tr style=\"text-align: right;\">\n",
       "      <th></th>\n",
       "      <th>Time (s)</th>\n",
       "      <th>Acceleration x (m/s^2)</th>\n",
       "      <th>Acceleration y (m/s^2)</th>\n",
       "      <th>Acceleration z (m/s^2)</th>\n",
       "    </tr>\n",
       "  </thead>\n",
       "  <tbody>\n",
       "    <tr>\n",
       "      <td>0</td>\n",
       "      <td>0.000000</td>\n",
       "      <td>-0.319102</td>\n",
       "      <td>0.000060</td>\n",
       "      <td>-0.419422</td>\n",
       "    </tr>\n",
       "    <tr>\n",
       "      <td>1</td>\n",
       "      <td>0.029993</td>\n",
       "      <td>-0.327891</td>\n",
       "      <td>-0.000149</td>\n",
       "      <td>-0.424025</td>\n",
       "    </tr>\n",
       "    <tr>\n",
       "      <td>2</td>\n",
       "      <td>0.059987</td>\n",
       "      <td>-0.326976</td>\n",
       "      <td>-0.000590</td>\n",
       "      <td>-0.411510</td>\n",
       "    </tr>\n",
       "    <tr>\n",
       "      <td>3</td>\n",
       "      <td>0.089979</td>\n",
       "      <td>-0.322512</td>\n",
       "      <td>-0.001164</td>\n",
       "      <td>-0.392503</td>\n",
       "    </tr>\n",
       "    <tr>\n",
       "      <td>4</td>\n",
       "      <td>0.120039</td>\n",
       "      <td>-0.314021</td>\n",
       "      <td>-0.001218</td>\n",
       "      <td>-0.382259</td>\n",
       "    </tr>\n",
       "    <tr>\n",
       "      <td>...</td>\n",
       "      <td>...</td>\n",
       "      <td>...</td>\n",
       "      <td>...</td>\n",
       "      <td>...</td>\n",
       "    </tr>\n",
       "    <tr>\n",
       "      <td>324</td>\n",
       "      <td>8.863692</td>\n",
       "      <td>0.162856</td>\n",
       "      <td>-0.397378</td>\n",
       "      <td>0.436667</td>\n",
       "    </tr>\n",
       "    <tr>\n",
       "      <td>325</td>\n",
       "      <td>8.893585</td>\n",
       "      <td>-0.101547</td>\n",
       "      <td>-0.225080</td>\n",
       "      <td>-0.015457</td>\n",
       "    </tr>\n",
       "    <tr>\n",
       "      <td>326</td>\n",
       "      <td>8.923511</td>\n",
       "      <td>0.007495</td>\n",
       "      <td>-0.135052</td>\n",
       "      <td>-0.197437</td>\n",
       "    </tr>\n",
       "    <tr>\n",
       "      <td>327</td>\n",
       "      <td>8.943573</td>\n",
       "      <td>-0.238525</td>\n",
       "      <td>-0.125037</td>\n",
       "      <td>-0.283369</td>\n",
       "    </tr>\n",
       "    <tr>\n",
       "      <td>328</td>\n",
       "      <td>8.963701</td>\n",
       "      <td>-0.330051</td>\n",
       "      <td>-0.187606</td>\n",
       "      <td>-0.464665</td>\n",
       "    </tr>\n",
       "  </tbody>\n",
       "</table>\n",
       "<p>329 rows × 4 columns</p>\n",
       "</div>"
      ],
      "text/plain": [
       "     Time (s)  Acceleration x (m/s^2)  Acceleration y (m/s^2)  \\\n",
       "0    0.000000               -0.319102                0.000060   \n",
       "1    0.029993               -0.327891               -0.000149   \n",
       "2    0.059987               -0.326976               -0.000590   \n",
       "3    0.089979               -0.322512               -0.001164   \n",
       "4    0.120039               -0.314021               -0.001218   \n",
       "..        ...                     ...                     ...   \n",
       "324  8.863692                0.162856               -0.397378   \n",
       "325  8.893585               -0.101547               -0.225080   \n",
       "326  8.923511                0.007495               -0.135052   \n",
       "327  8.943573               -0.238525               -0.125037   \n",
       "328  8.963701               -0.330051               -0.187606   \n",
       "\n",
       "     Acceleration z (m/s^2)  \n",
       "0                 -0.419422  \n",
       "1                 -0.424025  \n",
       "2                 -0.411510  \n",
       "3                 -0.392503  \n",
       "4                 -0.382259  \n",
       "..                      ...  \n",
       "324                0.436667  \n",
       "325               -0.015457  \n",
       "326               -0.197437  \n",
       "327               -0.283369  \n",
       "328               -0.464665  \n",
       "\n",
       "[329 rows x 4 columns]"
      ]
     },
     "execution_count": 11,
     "metadata": {},
     "output_type": "execute_result"
    }
   ],
   "source": [
    "one = pd.read_csv('pendulumdata/dataset2.csv')\n",
    "one"
   ]
  },
  {
   "cell_type": "code",
   "execution_count": 12,
   "metadata": {},
   "outputs": [
    {
     "data": {
      "text/plain": [
       "[<matplotlib.lines.Line2D at 0x26525a6bac8>]"
      ]
     },
     "execution_count": 12,
     "metadata": {},
     "output_type": "execute_result"
    },
    {
     "data": {
      "image/png": "[encoded data removed]",
      "text/plain": [
       "<Figure size 432x288 with 1 Axes>"
      ]
     },
     "metadata": {
      "needs_background": "light"
     },
     "output_type": "display_data"
    }
   ],
   "source": [
    "x_1 = one['Acceleration y (m/s^2)']\n",
    "peaks_one, _ = signal.find_peaks(x_1, height=0.25)\n",
    "plt.plot(x_1)\n",
    "plt.plot(peaks_one, x_1[peaks_one], \"x\")"
   ]
  },
  {
   "cell_type": "code",
   "execution_count": 13,
   "metadata": {},
   "outputs": [
    {
     "data": {
      "text/plain": [
       "array([118, 140, 172, 202, 225, 227, 252, 270, 276, 283, 287, 291],\n",
       "      dtype=int64)"
      ]
     },
     "execution_count": 13,
     "metadata": {},
     "output_type": "execute_result"
    }
   ],
   "source": [
    "peaks_one"
   ]
  },
  {
   "cell_type": "code",
   "execution_count": 14,
   "metadata": {
    "scrolled": true
   },
   "outputs": [
    {
     "data": {
      "text/plain": [
       "0.75"
      ]
     },
     "execution_count": 14,
     "metadata": {},
     "output_type": "execute_result"
    }
   ],
   "source": [
    "round(one['Time (s)'].iloc[202]-one['Time (s)'].iloc[172],2)"
   ]
  },
  {
   "cell_type": "code",
   "execution_count": 15,
   "metadata": {
    "scrolled": true
   },
   "outputs": [
    {
     "data": {
      "text/plain": [
       "0.75"
      ]
     },
     "execution_count": 15,
     "metadata": {},
     "output_type": "execute_result"
    }
   ],
   "source": [
    "round(one['Time (s)'].iloc[227]-one['Time (s)'].iloc[202],2)"
   ]
  },
  {
   "cell_type": "code",
   "execution_count": 16,
   "metadata": {
    "scrolled": true
   },
   "outputs": [
    {
     "data": {
      "text/plain": [
       "0.75"
      ]
     },
     "execution_count": 16,
     "metadata": {},
     "output_type": "execute_result"
    }
   ],
   "source": [
    "round(one['Time (s)'].iloc[252]-one['Time (s)'].iloc[227],2)"
   ]
  },
  {
   "cell_type": "code",
   "execution_count": 17,
   "metadata": {},
   "outputs": [
    {
     "data": {
      "text/html": [
       "<div>\n",
       "<style scoped>\n",
       "    .dataframe tbody tr th:only-of-type {\n",
       "        vertical-align: middle;\n",
       "    }\n",
       "\n",
       "    .dataframe tbody tr th {\n",
       "        vertical-align: top;\n",
       "    }\n",
       "\n",
       "    .dataframe thead th {\n",
       "        text-align: right;\n",
       "    }\n",
       "</style>\n",
       "<table border=\"1\" class=\"dataframe\">\n",
       "  <thead>\n",
       "    <tr style=\"text-align: right;\">\n",
       "      <th></th>\n",
       "      <th>t1</th>\n",
       "      <th>t2</th>\n",
       "      <th>x1</th>\n",
       "      <th>x2</th>\n",
       "      <th>T</th>\n",
       "      <th>delta</th>\n",
       "      <th>zeta</th>\n",
       "      <th>omega</th>\n",
       "    </tr>\n",
       "  </thead>\n",
       "  <tbody>\n",
       "    <tr>\n",
       "      <td>0</td>\n",
       "      <td>4.454603</td>\n",
       "      <td>5.205420</td>\n",
       "      <td>2.697021</td>\n",
       "      <td>1.344256</td>\n",
       "      <td>0.750817</td>\n",
       "      <td>0.696307</td>\n",
       "      <td>0.110821</td>\n",
       "      <td>8.368467</td>\n",
       "    </tr>\n",
       "    <tr>\n",
       "      <td>1</td>\n",
       "      <td>5.205420</td>\n",
       "      <td>5.955237</td>\n",
       "      <td>1.344256</td>\n",
       "      <td>0.737562</td>\n",
       "      <td>0.749817</td>\n",
       "      <td>0.600246</td>\n",
       "      <td>0.095532</td>\n",
       "      <td>8.379627</td>\n",
       "    </tr>\n",
       "    <tr>\n",
       "      <td>2</td>\n",
       "      <td>5.955237</td>\n",
       "      <td>6.705054</td>\n",
       "      <td>0.737562</td>\n",
       "      <td>0.561367</td>\n",
       "      <td>0.749817</td>\n",
       "      <td>0.272975</td>\n",
       "      <td>0.043445</td>\n",
       "      <td>8.379627</td>\n",
       "    </tr>\n",
       "  </tbody>\n",
       "</table>\n",
       "</div>"
      ],
      "text/plain": [
       "         t1        t2        x1        x2         T     delta      zeta  \\\n",
       "0  4.454603  5.205420  2.697021  1.344256  0.750817  0.696307  0.110821   \n",
       "1  5.205420  5.955237  1.344256  0.737562  0.749817  0.600246  0.095532   \n",
       "2  5.955237  6.705054  0.737562  0.561367  0.749817  0.272975  0.043445   \n",
       "\n",
       "      omega  \n",
       "0  8.368467  \n",
       "1  8.379627  \n",
       "2  8.379627  "
      ]
     },
     "execution_count": 17,
     "metadata": {},
     "output_type": "execute_result"
    }
   ],
   "source": [
    "t1 = [one['Time (s)'].iloc[172],one['Time (s)'].iloc[202],one['Time (s)'].iloc[227]]\n",
    "nf1 = pd.DataFrame(t1)\n",
    "nf1.rename(columns={nf1.columns[0]:'t1'}, inplace=True)\n",
    "nf1['t2'] = [one['Time (s)'].iloc[202], one['Time (s)'].iloc[227], one['Time (s)'].iloc[252]]\n",
    "nf1['x1'] = [one['Acceleration y (m/s^2)'].iloc[172],one['Acceleration y (m/s^2)'].iloc[202],one['Acceleration y (m/s^2)'].iloc[227]]\n",
    "nf1['x2'] = [one['Acceleration y (m/s^2)'].iloc[202], one['Acceleration y (m/s^2)'].iloc[227], one['Acceleration y (m/s^2)'].iloc[252]]\n",
    "nf1['T'] = nf1['t2'] - nf1['t1']\n",
    "nf1['delta'] = np.log(nf1['x1']/nf1['x2']) # np.log() stands for natural logarithm (ln)\n",
    "nf1['zeta'] = nf1['delta']/(2*math.pi)\n",
    "nf1['omega'] = nf1['delta']/(nf1['zeta']*nf1['T'])\n",
    "nf1.to_excel('nf2.xlsx')\n",
    "nf1"
   ]
  },
  {
   "cell_type": "markdown",
   "metadata": {},
   "source": [
    "## Natural Frequency Dataset 3"
   ]
  },
  {
   "cell_type": "code",
   "execution_count": 18,
   "metadata": {
    "scrolled": false
   },
   "outputs": [
    {
     "data": {
      "text/html": [
       "<div>\n",
       "<style scoped>\n",
       "    .dataframe tbody tr th:only-of-type {\n",
       "        vertical-align: middle;\n",
       "    }\n",
       "\n",
       "    .dataframe tbody tr th {\n",
       "        vertical-align: top;\n",
       "    }\n",
       "\n",
       "    .dataframe thead th {\n",
       "        text-align: right;\n",
       "    }\n",
       "</style>\n",
       "<table border=\"1\" class=\"dataframe\">\n",
       "  <thead>\n",
       "    <tr style=\"text-align: right;\">\n",
       "      <th></th>\n",
       "      <th>Unnamed: 0</th>\n",
       "      <th>Time (s)</th>\n",
       "      <th>Acceleration x (m/s^2)</th>\n",
       "      <th>Acceleration y (m/s^2)</th>\n",
       "      <th>Acceleration z (m/s^2)</th>\n",
       "    </tr>\n",
       "  </thead>\n",
       "  <tbody>\n",
       "    <tr>\n",
       "      <td>0</td>\n",
       "      <td>0</td>\n",
       "      <td>0.000000</td>\n",
       "      <td>0.168407</td>\n",
       "      <td>-0.169823</td>\n",
       "      <td>-0.028083</td>\n",
       "    </tr>\n",
       "    <tr>\n",
       "      <td>1</td>\n",
       "      <td>10</td>\n",
       "      <td>0.299925</td>\n",
       "      <td>0.315758</td>\n",
       "      <td>-0.097636</td>\n",
       "      <td>0.630240</td>\n",
       "    </tr>\n",
       "    <tr>\n",
       "      <td>2</td>\n",
       "      <td>20</td>\n",
       "      <td>0.599851</td>\n",
       "      <td>-0.086218</td>\n",
       "      <td>0.033126</td>\n",
       "      <td>0.015425</td>\n",
       "    </tr>\n",
       "    <tr>\n",
       "      <td>3</td>\n",
       "      <td>30</td>\n",
       "      <td>0.899778</td>\n",
       "      <td>-0.122408</td>\n",
       "      <td>0.009839</td>\n",
       "      <td>-0.071326</td>\n",
       "    </tr>\n",
       "    <tr>\n",
       "      <td>4</td>\n",
       "      <td>40</td>\n",
       "      <td>1.199707</td>\n",
       "      <td>0.068546</td>\n",
       "      <td>-0.101357</td>\n",
       "      <td>-0.064980</td>\n",
       "    </tr>\n",
       "  </tbody>\n",
       "</table>\n",
       "</div>"
      ],
      "text/plain": [
       "   Unnamed: 0  Time (s)  Acceleration x (m/s^2)  Acceleration y (m/s^2)  \\\n",
       "0           0  0.000000                0.168407               -0.169823   \n",
       "1          10  0.299925                0.315758               -0.097636   \n",
       "2          20  0.599851               -0.086218                0.033126   \n",
       "3          30  0.899778               -0.122408                0.009839   \n",
       "4          40  1.199707                0.068546               -0.101357   \n",
       "\n",
       "   Acceleration z (m/s^2)  \n",
       "0               -0.028083  \n",
       "1                0.630240  \n",
       "2                0.015425  \n",
       "3               -0.071326  \n",
       "4               -0.064980  "
      ]
     },
     "execution_count": 18,
     "metadata": {},
     "output_type": "execute_result"
    }
   ],
   "source": [
    "one = pd.read_csv('pendulumdata/dataset3.csv')\n",
    "one.head()"
   ]
  },
  {
   "cell_type": "code",
   "execution_count": 19,
   "metadata": {},
   "outputs": [],
   "source": [
    "x_1 = one['Acceleration y (m/s^2)']"
   ]
  },
  {
   "cell_type": "code",
   "execution_count": 20,
   "metadata": {},
   "outputs": [
    {
     "data": {
      "text/plain": [
       "[<matplotlib.lines.Line2D at 0x26525b02048>]"
      ]
     },
     "execution_count": 20,
     "metadata": {},
     "output_type": "execute_result"
    },
    {
     "data": {
      "image/png": "[encoded data removed]",
      "text/plain": [
       "<Figure size 432x288 with 1 Axes>"
      ]
     },
     "metadata": {
      "needs_background": "light"
     },
     "output_type": "display_data"
    }
   ],
   "source": [
    "peaks_one, _ = signal.find_peaks(x_1, height=0)\n",
    "plt.plot(x_1)\n",
    "plt.plot(peaks_one, x_1[peaks_one], \"x\")"
   ]
  },
  {
   "cell_type": "code",
   "execution_count": 21,
   "metadata": {},
   "outputs": [
    {
     "data": {
      "text/plain": [
       "array([ 2,  5,  8, 10, 13, 15, 18, 20, 23, 25], dtype=int64)"
      ]
     },
     "execution_count": 21,
     "metadata": {},
     "output_type": "execute_result"
    }
   ],
   "source": [
    "peaks_one"
   ]
  },
  {
   "cell_type": "code",
   "execution_count": 22,
   "metadata": {
    "scrolled": true
   },
   "outputs": [
    {
     "data": {
      "text/plain": [
       "0.9"
      ]
     },
     "execution_count": 22,
     "metadata": {},
     "output_type": "execute_result"
    }
   ],
   "source": [
    "round(one['Time (s)'].iloc[23]-one['Time (s)'].iloc[20],2)"
   ]
  },
  {
   "cell_type": "code",
   "execution_count": 23,
   "metadata": {
    "scrolled": true
   },
   "outputs": [
    {
     "data": {
      "text/plain": [
       "0.9"
      ]
     },
     "execution_count": 23,
     "metadata": {},
     "output_type": "execute_result"
    }
   ],
   "source": [
    "round(one['Time (s)'].iloc[18]-one['Time (s)'].iloc[15],2)"
   ]
  },
  {
   "cell_type": "code",
   "execution_count": 24,
   "metadata": {
    "scrolled": true
   },
   "outputs": [
    {
     "data": {
      "text/plain": [
       "0.9"
      ]
     },
     "execution_count": 24,
     "metadata": {},
     "output_type": "execute_result"
    }
   ],
   "source": [
    "round(one['Time (s)'].iloc[13]-one['Time (s)'].iloc[10],2)"
   ]
  },
  {
   "cell_type": "code",
   "execution_count": 25,
   "metadata": {},
   "outputs": [
    {
     "data": {
      "text/html": [
       "<div>\n",
       "<style scoped>\n",
       "    .dataframe tbody tr th:only-of-type {\n",
       "        vertical-align: middle;\n",
       "    }\n",
       "\n",
       "    .dataframe tbody tr th {\n",
       "        vertical-align: top;\n",
       "    }\n",
       "\n",
       "    .dataframe thead th {\n",
       "        text-align: right;\n",
       "    }\n",
       "</style>\n",
       "<table border=\"1\" class=\"dataframe\">\n",
       "  <thead>\n",
       "    <tr style=\"text-align: right;\">\n",
       "      <th></th>\n",
       "      <th>t1</th>\n",
       "      <th>t2</th>\n",
       "      <th>x1</th>\n",
       "      <th>x2</th>\n",
       "      <th>T</th>\n",
       "      <th>delta</th>\n",
       "      <th>zeta</th>\n",
       "      <th>omega</th>\n",
       "    </tr>\n",
       "  </thead>\n",
       "  <tbody>\n",
       "    <tr>\n",
       "      <td>0</td>\n",
       "      <td>5.681053</td>\n",
       "      <td>6.580833</td>\n",
       "      <td>0.024746</td>\n",
       "      <td>0.071080</td>\n",
       "      <td>0.899780</td>\n",
       "      <td>-1.055147</td>\n",
       "      <td>-0.167932</td>\n",
       "      <td>6.983021</td>\n",
       "    </tr>\n",
       "    <tr>\n",
       "      <td>1</td>\n",
       "      <td>4.181422</td>\n",
       "      <td>5.081199</td>\n",
       "      <td>0.158769</td>\n",
       "      <td>0.240651</td>\n",
       "      <td>0.899777</td>\n",
       "      <td>-0.415900</td>\n",
       "      <td>-0.066193</td>\n",
       "      <td>6.983044</td>\n",
       "    </tr>\n",
       "    <tr>\n",
       "      <td>2</td>\n",
       "      <td>2.681343</td>\n",
       "      <td>3.581123</td>\n",
       "      <td>1.305663</td>\n",
       "      <td>1.378830</td>\n",
       "      <td>0.899780</td>\n",
       "      <td>-0.054524</td>\n",
       "      <td>-0.008678</td>\n",
       "      <td>6.983023</td>\n",
       "    </tr>\n",
       "  </tbody>\n",
       "</table>\n",
       "</div>"
      ],
      "text/plain": [
       "         t1        t2        x1        x2         T     delta      zeta  \\\n",
       "0  5.681053  6.580833  0.024746  0.071080  0.899780 -1.055147 -0.167932   \n",
       "1  4.181422  5.081199  0.158769  0.240651  0.899777 -0.415900 -0.066193   \n",
       "2  2.681343  3.581123  1.305663  1.378830  0.899780 -0.054524 -0.008678   \n",
       "\n",
       "      omega  \n",
       "0  6.983021  \n",
       "1  6.983044  \n",
       "2  6.983023  "
      ]
     },
     "execution_count": 25,
     "metadata": {},
     "output_type": "execute_result"
    }
   ],
   "source": [
    "t1 = [one['Time (s)'].iloc[20],one['Time (s)'].iloc[15],one['Time (s)'].iloc[10]]\n",
    "nf1 = pd.DataFrame(t1)\n",
    "nf1.rename(columns={nf1.columns[0]:'t1'}, inplace=True)\n",
    "nf1['t2'] = [one['Time (s)'].iloc[23], one['Time (s)'].iloc[18], one['Time (s)'].iloc[13]]\n",
    "nf1['x1'] = [one['Acceleration y (m/s^2)'].iloc[20],one['Acceleration y (m/s^2)'].iloc[15],one['Acceleration y (m/s^2)'].iloc[10]]\n",
    "nf1['x2'] = [one['Acceleration y (m/s^2)'].iloc[23], one['Acceleration y (m/s^2)'].iloc[18], one['Acceleration y (m/s^2)'].iloc[13]]\n",
    "nf1['T'] = nf1['t2'] - nf1['t1']\n",
    "nf1['delta'] = np.log(nf1['x1']/nf1['x2']) # np.log() stands for natural logarithm (ln)\n",
    "nf1['zeta'] = nf1['delta']/(2*math.pi)\n",
    "nf1['omega'] = nf1['delta']/(nf1['zeta']*nf1['T'])\n",
    "nf1.to_excel('nf3.xlsx')\n",
    "nf1"
   ]
  }
 ],
 "metadata": {
  "kernelspec": {
   "display_name": "Python 3",
   "language": "python",
   "name": "python3"
  },
  "language_info": {
   "codemirror_mode": {
    "name": "ipython",
    "version": 3
   },
   "file_extension": ".py",
   "mimetype": "text/x-python",
   "name": "python",
   "nbconvert_exporter": "python",
   "pygments_lexer": "ipython3",
   "version": "3.7.4"
  }
 },
 "nbformat": 4,
 "nbformat_minor": 2
}
