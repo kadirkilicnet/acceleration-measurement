{
 "cells": [
  {
   "cell_type": "markdown",
   "metadata": {},
   "source": [
    "# Pendulum Experiment"
   ]
  },
  {
   "cell_type": "code",
   "execution_count": 1,
   "metadata": {},
   "outputs": [],
   "source": [
    "import pandas as pd\n",
    "import matplotlib.pyplot as plt\n",
    "from scipy import signal\n",
    "import numpy as np\n",
    "import math"
   ]
  },
  {
   "cell_type": "markdown",
   "metadata": {},
   "source": [
    "## Natural Frequency Dataset 1"
   ]
  },
  {
   "cell_type": "code",
   "execution_count": 3,
   "metadata": {
    "scrolled": false
   },
   "outputs": [
    {
     "data": {
      "text/html": [
       "<div>\n",
       "<style scoped>\n",
       "    .dataframe tbody tr th:only-of-type {\n",
       "        vertical-align: middle;\n",
       "    }\n",
       "\n",
       "    .dataframe tbody tr th {\n",
       "        vertical-align: top;\n",
       "    }\n",
       "\n",
       "    .dataframe thead th {\n",
       "        text-align: right;\n",
       "    }\n",
       "</style>\n",
       "<table border=\"1\" class=\"dataframe\">\n",
       "  <thead>\n",
       "    <tr style=\"text-align: right;\">\n",
       "      <th></th>\n",
       "      <th>Unnamed: 0</th>\n",
       "      <th>Time (s)</th>\n",
       "      <th>Acceleration x (m/s^2)</th>\n",
       "      <th>Acceleration y (m/s^2)</th>\n",
       "      <th>Acceleration z (m/s^2)</th>\n",
       "    </tr>\n",
       "  </thead>\n",
       "  <tbody>\n",
       "    <tr>\n",
       "      <td>0</td>\n",
       "      <td>0</td>\n",
       "      <td>1.221101</td>\n",
       "      <td>0.058326</td>\n",
       "      <td>-0.088369</td>\n",
       "      <td>-0.121135</td>\n",
       "    </tr>\n",
       "    <tr>\n",
       "      <td>1</td>\n",
       "      <td>1</td>\n",
       "      <td>1.401064</td>\n",
       "      <td>0.035164</td>\n",
       "      <td>-0.065394</td>\n",
       "      <td>0.149948</td>\n",
       "    </tr>\n",
       "    <tr>\n",
       "      <td>2</td>\n",
       "      <td>2</td>\n",
       "      <td>1.581020</td>\n",
       "      <td>0.176472</td>\n",
       "      <td>-0.217663</td>\n",
       "      <td>-0.236736</td>\n",
       "    </tr>\n",
       "    <tr>\n",
       "      <td>3</td>\n",
       "      <td>3</td>\n",
       "      <td>1.760968</td>\n",
       "      <td>-0.046442</td>\n",
       "      <td>-0.089117</td>\n",
       "      <td>0.076747</td>\n",
       "    </tr>\n",
       "    <tr>\n",
       "      <td>4</td>\n",
       "      <td>4</td>\n",
       "      <td>1.940931</td>\n",
       "      <td>0.030521</td>\n",
       "      <td>-0.680533</td>\n",
       "      <td>-0.103797</td>\n",
       "    </tr>\n",
       "    <tr>\n",
       "      <td>...</td>\n",
       "      <td>...</td>\n",
       "      <td>...</td>\n",
       "      <td>...</td>\n",
       "      <td>...</td>\n",
       "      <td>...</td>\n",
       "    </tr>\n",
       "    <tr>\n",
       "      <td>79</td>\n",
       "      <td>79</td>\n",
       "      <td>14.225713</td>\n",
       "      <td>0.049786</td>\n",
       "      <td>0.176723</td>\n",
       "      <td>0.061044</td>\n",
       "    </tr>\n",
       "    <tr>\n",
       "      <td>80</td>\n",
       "      <td>80</td>\n",
       "      <td>14.375843</td>\n",
       "      <td>0.076490</td>\n",
       "      <td>-0.333096</td>\n",
       "      <td>0.103834</td>\n",
       "    </tr>\n",
       "    <tr>\n",
       "      <td>81</td>\n",
       "      <td>81</td>\n",
       "      <td>14.535937</td>\n",
       "      <td>-0.017847</td>\n",
       "      <td>-0.059465</td>\n",
       "      <td>-0.002312</td>\n",
       "    </tr>\n",
       "    <tr>\n",
       "      <td>82</td>\n",
       "      <td>82</td>\n",
       "      <td>14.656308</td>\n",
       "      <td>0.050889</td>\n",
       "      <td>0.097301</td>\n",
       "      <td>0.124152</td>\n",
       "    </tr>\n",
       "    <tr>\n",
       "      <td>83</td>\n",
       "      <td>83</td>\n",
       "      <td>14.776678</td>\n",
       "      <td>-0.095260</td>\n",
       "      <td>-0.079404</td>\n",
       "      <td>-0.190462</td>\n",
       "    </tr>\n",
       "  </tbody>\n",
       "</table>\n",
       "<p>84 rows × 5 columns</p>\n",
       "</div>"
      ],
      "text/plain": [
       "    Unnamed: 0   Time (s)  Acceleration x (m/s^2)  Acceleration y (m/s^2)  \\\n",
       "0            0   1.221101                0.058326               -0.088369   \n",
       "1            1   1.401064                0.035164               -0.065394   \n",
       "2            2   1.581020                0.176472               -0.217663   \n",
       "3            3   1.760968               -0.046442               -0.089117   \n",
       "4            4   1.940931                0.030521               -0.680533   \n",
       "..         ...        ...                     ...                     ...   \n",
       "79          79  14.225713                0.049786                0.176723   \n",
       "80          80  14.375843                0.076490               -0.333096   \n",
       "81          81  14.535937               -0.017847               -0.059465   \n",
       "82          82  14.656308                0.050889                0.097301   \n",
       "83          83  14.776678               -0.095260               -0.079404   \n",
       "\n",
       "    Acceleration z (m/s^2)  \n",
       "0                -0.121135  \n",
       "1                 0.149948  \n",
       "2                -0.236736  \n",
       "3                 0.076747  \n",
       "4                -0.103797  \n",
       "..                     ...  \n",
       "79                0.061044  \n",
       "80                0.103834  \n",
       "81               -0.002312  \n",
       "82                0.124152  \n",
       "83               -0.190462  \n",
       "\n",
       "[84 rows x 5 columns]"
      ]
     },
     "execution_count": 3,
     "metadata": {},
     "output_type": "execute_result"
    }
   ],
   "source": [
    "first = pd.read_csv('pendulumdata/dataset1_v2.csv')\n",
    "first"
   ]
  },
  {
   "cell_type": "code",
   "execution_count": 4,
   "metadata": {},
   "outputs": [],
   "source": [
    "x = first['Acceleration y (m/s^2)']"
   ]
  },
  {
   "cell_type": "code",
   "execution_count": 5,
   "metadata": {},
   "outputs": [],
   "source": [
    "peaks, _ = signal.find_peaks(x, height=0)"
   ]
  },
  {
   "cell_type": "code",
   "execution_count": 6,
   "metadata": {
    "scrolled": true
   },
   "outputs": [
    {
     "data": {
      "text/plain": [
       "[<matplotlib.lines.Line2D at 0x26afde5ea88>]"
      ]
     },
     "execution_count": 6,
     "metadata": {},
     "output_type": "execute_result"
    },
    {
     "data": {
      "image/png": "[encoded data removed]",
      "text/plain": [
       "<Figure size 432x288 with 1 Axes>"
      ]
     },
     "metadata": {
      "needs_background": "light"
     },
     "output_type": "display_data"
    }
   ],
   "source": [
    "plt.plot(x)\n",
    "plt.plot(peaks, x[peaks], \"x\")"
   ]
  },
  {
   "cell_type": "code",
   "execution_count": 7,
   "metadata": {
    "scrolled": true
   },
   "outputs": [
    {
     "data": {
      "text/plain": [
       "8     0.244141\n",
       "14    0.752015\n",
       "16    3.967712\n",
       "19    4.090683\n",
       "24    2.604672\n",
       "29    1.479028\n",
       "33    0.570287\n",
       "37    0.381010\n",
       "40    0.195234\n",
       "44    0.195817\n",
       "48    0.079496\n",
       "52    0.004685\n",
       "63    0.006006\n",
       "68    0.015357\n",
       "76    0.103441\n",
       "Name: Acceleration y (m/s^2), dtype: float64"
      ]
     },
     "execution_count": 7,
     "metadata": {},
     "output_type": "execute_result"
    }
   ],
   "source": [
    "x[peaks].head(15)"
   ]
  },
  {
   "cell_type": "code",
   "execution_count": 8,
   "metadata": {
    "scrolled": true
   },
   "outputs": [
    {
     "data": {
      "text/plain": [
       "0.72"
      ]
     },
     "execution_count": 8,
     "metadata": {},
     "output_type": "execute_result"
    }
   ],
   "source": [
    "round(first['Time (s)'].iloc[33]-first['Time (s)'].iloc[29],2)"
   ]
  },
  {
   "cell_type": "code",
   "execution_count": 9,
   "metadata": {
    "scrolled": false
   },
   "outputs": [
    {
     "data": {
      "text/plain": [
       "0.72"
      ]
     },
     "execution_count": 9,
     "metadata": {},
     "output_type": "execute_result"
    }
   ],
   "source": [
    "round(first['Time (s)'].iloc[37]-first['Time (s)'].iloc[33],2)"
   ]
  },
  {
   "cell_type": "code",
   "execution_count": 10,
   "metadata": {
    "scrolled": true
   },
   "outputs": [
    {
     "data": {
      "text/plain": [
       "0.72"
      ]
     },
     "execution_count": 10,
     "metadata": {},
     "output_type": "execute_result"
    }
   ],
   "source": [
    "round(first['Time (s)'].iloc[44]-first['Time (s)'].iloc[40],2)"
   ]
  },
  {
   "cell_type": "code",
   "execution_count": 11,
   "metadata": {},
   "outputs": [
    {
     "data": {
      "text/html": [
       "<div>\n",
       "<style scoped>\n",
       "    .dataframe tbody tr th:only-of-type {\n",
       "        vertical-align: middle;\n",
       "    }\n",
       "\n",
       "    .dataframe tbody tr th {\n",
       "        vertical-align: top;\n",
       "    }\n",
       "\n",
       "    .dataframe thead th {\n",
       "        text-align: right;\n",
       "    }\n",
       "</style>\n",
       "<table border=\"1\" class=\"dataframe\">\n",
       "  <thead>\n",
       "    <tr style=\"text-align: right;\">\n",
       "      <th></th>\n",
       "      <th>t1</th>\n",
       "      <th>t2</th>\n",
       "      <th>x1</th>\n",
       "      <th>x2</th>\n",
       "      <th>T</th>\n",
       "      <th>delta</th>\n",
       "      <th>zeta</th>\n",
       "      <th>omega</th>\n",
       "    </tr>\n",
       "  </thead>\n",
       "  <tbody>\n",
       "    <tr>\n",
       "      <td>0</td>\n",
       "      <td>5.824931</td>\n",
       "      <td>6.544756</td>\n",
       "      <td>1.479028</td>\n",
       "      <td>0.570287</td>\n",
       "      <td>0.719824</td>\n",
       "      <td>0.953001</td>\n",
       "      <td>0.151675</td>\n",
       "      <td>8.728778</td>\n",
       "    </tr>\n",
       "    <tr>\n",
       "      <td>1</td>\n",
       "      <td>6.544756</td>\n",
       "      <td>7.264580</td>\n",
       "      <td>0.570287</td>\n",
       "      <td>0.381010</td>\n",
       "      <td>0.719824</td>\n",
       "      <td>0.403314</td>\n",
       "      <td>0.064189</td>\n",
       "      <td>8.728778</td>\n",
       "    </tr>\n",
       "    <tr>\n",
       "      <td>2</td>\n",
       "      <td>7.804448</td>\n",
       "      <td>8.524272</td>\n",
       "      <td>0.195234</td>\n",
       "      <td>0.195817</td>\n",
       "      <td>0.719824</td>\n",
       "      <td>-0.002980</td>\n",
       "      <td>-0.000474</td>\n",
       "      <td>8.728778</td>\n",
       "    </tr>\n",
       "  </tbody>\n",
       "</table>\n",
       "</div>"
      ],
      "text/plain": [
       "         t1        t2        x1        x2         T     delta      zeta  \\\n",
       "0  5.824931  6.544756  1.479028  0.570287  0.719824  0.953001  0.151675   \n",
       "1  6.544756  7.264580  0.570287  0.381010  0.719824  0.403314  0.064189   \n",
       "2  7.804448  8.524272  0.195234  0.195817  0.719824 -0.002980 -0.000474   \n",
       "\n",
       "      omega  \n",
       "0  8.728778  \n",
       "1  8.728778  \n",
       "2  8.728778  "
      ]
     },
     "execution_count": 11,
     "metadata": {},
     "output_type": "execute_result"
    }
   ],
   "source": [
    "t1 = [first['Time (s)'].iloc[29],first['Time (s)'].iloc[33],first['Time (s)'].iloc[40]]\n",
    "nf1 = pd.DataFrame(t1)\n",
    "nf1.rename(columns={nf1.columns[0]:'t1'}, inplace=True)\n",
    "nf1['t2'] = [first['Time (s)'].iloc[33], first['Time (s)'].iloc[37], first['Time (s)'].iloc[44]]\n",
    "nf1['x1'] = [first['Acceleration y (m/s^2)'].iloc[29],first['Acceleration y (m/s^2)'].iloc[33],first['Acceleration y (m/s^2)'].iloc[40]]\n",
    "nf1['x2'] = [first['Acceleration y (m/s^2)'].iloc[33], first['Acceleration y (m/s^2)'].iloc[37], first['Acceleration y (m/s^2)'].iloc[44]]\n",
    "nf1['T'] = nf1['t2'] - nf1['t1']\n",
    "nf1['delta'] = np.log(nf1['x1']/nf1['x2']) # np.log() stands for natural logarithm (ln)\n",
    "nf1['zeta'] = nf1['delta']/(2*math.pi)\n",
    "nf1['omega'] = nf1['delta']/(nf1['zeta']*nf1['T'])\n",
    "nf1.to_excel('nf1.xlsx')\n",
    "nf1"
   ]
  },
  {
   "cell_type": "markdown",
   "metadata": {},
   "source": [
    "## Natural Frequency Dataset 2"
   ]
  },
  {
   "cell_type": "code",
   "execution_count": 12,
   "metadata": {
    "scrolled": true
   },
   "outputs": [
    {
     "data": {
      "text/html": [
       "<div>\n",
       "<style scoped>\n",
       "    .dataframe tbody tr th:only-of-type {\n",
       "        vertical-align: middle;\n",
       "    }\n",
       "\n",
       "    .dataframe tbody tr th {\n",
       "        vertical-align: top;\n",
       "    }\n",
       "\n",
       "    .dataframe thead th {\n",
       "        text-align: right;\n",
       "    }\n",
       "</style>\n",
       "<table border=\"1\" class=\"dataframe\">\n",
       "  <thead>\n",
       "    <tr style=\"text-align: right;\">\n",
       "      <th></th>\n",
       "      <th>Time (s)</th>\n",
       "      <th>Acceleration x (m/s^2)</th>\n",
       "      <th>Acceleration y (m/s^2)</th>\n",
       "      <th>Acceleration z (m/s^2)</th>\n",
       "    </tr>\n",
       "  </thead>\n",
       "  <tbody>\n",
       "    <tr>\n",
       "      <td>0</td>\n",
       "      <td>0.000000</td>\n",
       "      <td>-0.319102</td>\n",
       "      <td>0.000060</td>\n",
       "      <td>-0.419422</td>\n",
       "    </tr>\n",
       "    <tr>\n",
       "      <td>1</td>\n",
       "      <td>0.029993</td>\n",
       "      <td>-0.327891</td>\n",
       "      <td>-0.000149</td>\n",
       "      <td>-0.424025</td>\n",
       "    </tr>\n",
       "    <tr>\n",
       "      <td>2</td>\n",
       "      <td>0.059987</td>\n",
       "      <td>-0.326976</td>\n",
       "      <td>-0.000590</td>\n",
       "      <td>-0.411510</td>\n",
       "    </tr>\n",
       "    <tr>\n",
       "      <td>3</td>\n",
       "      <td>0.089979</td>\n",
       "      <td>-0.322512</td>\n",
       "      <td>-0.001164</td>\n",
       "      <td>-0.392503</td>\n",
       "    </tr>\n",
       "    <tr>\n",
       "      <td>4</td>\n",
       "      <td>0.120039</td>\n",
       "      <td>-0.314021</td>\n",
       "      <td>-0.001218</td>\n",
       "      <td>-0.382259</td>\n",
       "    </tr>\n",
       "    <tr>\n",
       "      <td>...</td>\n",
       "      <td>...</td>\n",
       "      <td>...</td>\n",
       "      <td>...</td>\n",
       "      <td>...</td>\n",
       "    </tr>\n",
       "    <tr>\n",
       "      <td>324</td>\n",
       "      <td>8.863692</td>\n",
       "      <td>0.162856</td>\n",
       "      <td>-0.397378</td>\n",
       "      <td>0.436667</td>\n",
       "    </tr>\n",
       "    <tr>\n",
       "      <td>325</td>\n",
       "      <td>8.893585</td>\n",
       "      <td>-0.101547</td>\n",
       "      <td>-0.225080</td>\n",
       "      <td>-0.015457</td>\n",
       "    </tr>\n",
       "    <tr>\n",
       "      <td>326</td>\n",
       "      <td>8.923511</td>\n",
       "      <td>0.007495</td>\n",
       "      <td>-0.135052</td>\n",
       "      <td>-0.197437</td>\n",
       "    </tr>\n",
       "    <tr>\n",
       "      <td>327</td>\n",
       "      <td>8.943573</td>\n",
       "      <td>-0.238525</td>\n",
       "      <td>-0.125037</td>\n",
       "      <td>-0.283369</td>\n",
       "    </tr>\n",
       "    <tr>\n",
       "      <td>328</td>\n",
       "      <td>8.963701</td>\n",
       "      <td>-0.330051</td>\n",
       "      <td>-0.187606</td>\n",
       "      <td>-0.464665</td>\n",
       "    </tr>\n",
       "  </tbody>\n",
       "</table>\n",
       "<p>329 rows × 4 columns</p>\n",
       "</div>"
      ],
      "text/plain": [
       "     Time (s)  Acceleration x (m/s^2)  Acceleration y (m/s^2)  \\\n",
       "0    0.000000               -0.319102                0.000060   \n",
       "1    0.029993               -0.327891               -0.000149   \n",
       "2    0.059987               -0.326976               -0.000590   \n",
       "3    0.089979               -0.322512               -0.001164   \n",
       "4    0.120039               -0.314021               -0.001218   \n",
       "..        ...                     ...                     ...   \n",
       "324  8.863692                0.162856               -0.397378   \n",
       "325  8.893585               -0.101547               -0.225080   \n",
       "326  8.923511                0.007495               -0.135052   \n",
       "327  8.943573               -0.238525               -0.125037   \n",
       "328  8.963701               -0.330051               -0.187606   \n",
       "\n",
       "     Acceleration z (m/s^2)  \n",
       "0                 -0.419422  \n",
       "1                 -0.424025  \n",
       "2                 -0.411510  \n",
       "3                 -0.392503  \n",
       "4                 -0.382259  \n",
       "..                      ...  \n",
       "324                0.436667  \n",
       "325               -0.015457  \n",
       "326               -0.197437  \n",
       "327               -0.283369  \n",
       "328               -0.464665  \n",
       "\n",
       "[329 rows x 4 columns]"
      ]
     },
     "execution_count": 12,
     "metadata": {},
     "output_type": "execute_result"
    }
   ],
   "source": [
    "one = pd.read_csv('pendulumdata/dataset2.csv')\n",
    "one"
   ]
  },
  {
   "cell_type": "code",
   "execution_count": 13,
   "metadata": {},
   "outputs": [
    {
     "data": {
      "text/plain": [
       "[<matplotlib.lines.Line2D at 0x26afe11cf88>]"
      ]
     },
     "execution_count": 13,
     "metadata": {},
     "output_type": "execute_result"
    },
    {
     "data": {
      "image/png": "[encoded data removed]",
      "text/plain": [
       "<Figure size 432x288 with 1 Axes>"
      ]
     },
     "metadata": {
      "needs_background": "light"
     },
     "output_type": "display_data"
    }
   ],
   "source": [
    "x_1 = one['Acceleration y (m/s^2)']\n",
    "peaks_one, _ = signal.find_peaks(x_1, height=0.25)\n",
    "plt.plot(x_1)\n",
    "plt.plot(peaks_one, x_1[peaks_one], \"x\")"
   ]
  },
  {
   "cell_type": "code",
   "execution_count": 14,
   "metadata": {},
   "outputs": [
    {
     "data": {
      "text/plain": [
       "array([118, 140, 172, 202, 225, 227, 252, 270, 276, 283, 287, 291],\n",
       "      dtype=int64)"
      ]
     },
     "execution_count": 14,
     "metadata": {},
     "output_type": "execute_result"
    }
   ],
   "source": [
    "peaks_one"
   ]
  },
  {
   "cell_type": "code",
   "execution_count": 15,
   "metadata": {
    "scrolled": true
   },
   "outputs": [
    {
     "data": {
      "text/plain": [
       "0.75"
      ]
     },
     "execution_count": 15,
     "metadata": {},
     "output_type": "execute_result"
    }
   ],
   "source": [
    "round(one['Time (s)'].iloc[202]-one['Time (s)'].iloc[172],2)"
   ]
  },
  {
   "cell_type": "code",
   "execution_count": 16,
   "metadata": {
    "scrolled": true
   },
   "outputs": [
    {
     "data": {
      "text/plain": [
       "0.75"
      ]
     },
     "execution_count": 16,
     "metadata": {},
     "output_type": "execute_result"
    }
   ],
   "source": [
    "round(one['Time (s)'].iloc[227]-one['Time (s)'].iloc[202],2)"
   ]
  },
  {
   "cell_type": "code",
   "execution_count": 17,
   "metadata": {
    "scrolled": true
   },
   "outputs": [
    {
     "data": {
      "text/plain": [
       "0.75"
      ]
     },
     "execution_count": 17,
     "metadata": {},
     "output_type": "execute_result"
    }
   ],
   "source": [
    "round(one['Time (s)'].iloc[252]-one['Time (s)'].iloc[227],2)"
   ]
  },
  {
   "cell_type": "code",
   "execution_count": 18,
   "metadata": {},
   "outputs": [
    {
     "data": {
      "text/html": [
       "<div>\n",
       "<style scoped>\n",
       "    .dataframe tbody tr th:only-of-type {\n",
       "        vertical-align: middle;\n",
       "    }\n",
       "\n",
       "    .dataframe tbody tr th {\n",
       "        vertical-align: top;\n",
       "    }\n",
       "\n",
       "    .dataframe thead th {\n",
       "        text-align: right;\n",
       "    }\n",
       "</style>\n",
       "<table border=\"1\" class=\"dataframe\">\n",
       "  <thead>\n",
       "    <tr style=\"text-align: right;\">\n",
       "      <th></th>\n",
       "      <th>t1</th>\n",
       "      <th>t2</th>\n",
       "      <th>x1</th>\n",
       "      <th>x2</th>\n",
       "      <th>T</th>\n",
       "      <th>delta</th>\n",
       "      <th>zeta</th>\n",
       "      <th>omega</th>\n",
       "    </tr>\n",
       "  </thead>\n",
       "  <tbody>\n",
       "    <tr>\n",
       "      <td>0</td>\n",
       "      <td>4.454603</td>\n",
       "      <td>5.205420</td>\n",
       "      <td>2.697021</td>\n",
       "      <td>1.344256</td>\n",
       "      <td>0.750817</td>\n",
       "      <td>0.696307</td>\n",
       "      <td>0.110821</td>\n",
       "      <td>8.368467</td>\n",
       "    </tr>\n",
       "    <tr>\n",
       "      <td>1</td>\n",
       "      <td>5.205420</td>\n",
       "      <td>5.955237</td>\n",
       "      <td>1.344256</td>\n",
       "      <td>0.737562</td>\n",
       "      <td>0.749817</td>\n",
       "      <td>0.600246</td>\n",
       "      <td>0.095532</td>\n",
       "      <td>8.379627</td>\n",
       "    </tr>\n",
       "    <tr>\n",
       "      <td>2</td>\n",
       "      <td>5.955237</td>\n",
       "      <td>6.705054</td>\n",
       "      <td>0.737562</td>\n",
       "      <td>0.561367</td>\n",
       "      <td>0.749817</td>\n",
       "      <td>0.272975</td>\n",
       "      <td>0.043445</td>\n",
       "      <td>8.379627</td>\n",
       "    </tr>\n",
       "  </tbody>\n",
       "</table>\n",
       "</div>"
      ],
      "text/plain": [
       "         t1        t2        x1        x2         T     delta      zeta  \\\n",
       "0  4.454603  5.205420  2.697021  1.344256  0.750817  0.696307  0.110821   \n",
       "1  5.205420  5.955237  1.344256  0.737562  0.749817  0.600246  0.095532   \n",
       "2  5.955237  6.705054  0.737562  0.561367  0.749817  0.272975  0.043445   \n",
       "\n",
       "      omega  \n",
       "0  8.368467  \n",
       "1  8.379627  \n",
       "2  8.379627  "
      ]
     },
     "execution_count": 18,
     "metadata": {},
     "output_type": "execute_result"
    }
   ],
   "source": [
    "t1 = [one['Time (s)'].iloc[172],one['Time (s)'].iloc[202],one['Time (s)'].iloc[227]]\n",
    "nf1 = pd.DataFrame(t1)\n",
    "nf1.rename(columns={nf1.columns[0]:'t1'}, inplace=True)\n",
    "nf1['t2'] = [one['Time (s)'].iloc[202], one['Time (s)'].iloc[227], one['Time (s)'].iloc[252]]\n",
    "nf1['x1'] = [one['Acceleration y (m/s^2)'].iloc[172],one['Acceleration y (m/s^2)'].iloc[202],one['Acceleration y (m/s^2)'].iloc[227]]\n",
    "nf1['x2'] = [one['Acceleration y (m/s^2)'].iloc[202], one['Acceleration y (m/s^2)'].iloc[227], one['Acceleration y (m/s^2)'].iloc[252]]\n",
    "nf1['T'] = nf1['t2'] - nf1['t1']\n",
    "nf1['delta'] = np.log(nf1['x1']/nf1['x2']) # np.log() stands for natural logarithm (ln)\n",
    "nf1['zeta'] = nf1['delta']/(2*math.pi)\n",
    "nf1['omega'] = nf1['delta']/(nf1['zeta']*nf1['T'])\n",
    "nf1.to_excel('nf2.xlsx')\n",
    "nf1"
   ]
  },
  {
   "cell_type": "markdown",
   "metadata": {},
   "source": [
    "## Natural Frequency Dataset 3"
   ]
  },
  {
   "cell_type": "code",
   "execution_count": 19,
   "metadata": {},
   "outputs": [],
   "source": [
    "hadibe = pd.read_csv('data2/5.csv')[::20]\n",
    "hadibe.reset_index(drop=True)\n",
    "hadibe.to_csv('pendulumdata/dataset3_v2.csv')"
   ]
  },
  {
   "cell_type": "code",
   "execution_count": 20,
   "metadata": {
    "scrolled": false
   },
   "outputs": [
    {
     "data": {
      "text/html": [
       "<div>\n",
       "<style scoped>\n",
       "    .dataframe tbody tr th:only-of-type {\n",
       "        vertical-align: middle;\n",
       "    }\n",
       "\n",
       "    .dataframe tbody tr th {\n",
       "        vertical-align: top;\n",
       "    }\n",
       "\n",
       "    .dataframe thead th {\n",
       "        text-align: right;\n",
       "    }\n",
       "</style>\n",
       "<table border=\"1\" class=\"dataframe\">\n",
       "  <thead>\n",
       "    <tr style=\"text-align: right;\">\n",
       "      <th></th>\n",
       "      <th>Unnamed: 0</th>\n",
       "      <th>Time (s)</th>\n",
       "      <th>Acceleration x (m/s^2)</th>\n",
       "      <th>Acceleration y (m/s^2)</th>\n",
       "      <th>Acceleration z (m/s^2)</th>\n",
       "    </tr>\n",
       "  </thead>\n",
       "  <tbody>\n",
       "    <tr>\n",
       "      <td>0</td>\n",
       "      <td>0</td>\n",
       "      <td>0.000000</td>\n",
       "      <td>0.168407</td>\n",
       "      <td>-0.169823</td>\n",
       "      <td>-0.028083</td>\n",
       "    </tr>\n",
       "    <tr>\n",
       "      <td>1</td>\n",
       "      <td>20</td>\n",
       "      <td>0.599851</td>\n",
       "      <td>-0.086218</td>\n",
       "      <td>0.033126</td>\n",
       "      <td>0.015425</td>\n",
       "    </tr>\n",
       "    <tr>\n",
       "      <td>2</td>\n",
       "      <td>40</td>\n",
       "      <td>1.199707</td>\n",
       "      <td>0.068546</td>\n",
       "      <td>-0.101357</td>\n",
       "      <td>-0.064980</td>\n",
       "    </tr>\n",
       "    <tr>\n",
       "      <td>3</td>\n",
       "      <td>60</td>\n",
       "      <td>1.650595</td>\n",
       "      <td>-0.007800</td>\n",
       "      <td>-1.268885</td>\n",
       "      <td>0.062409</td>\n",
       "    </tr>\n",
       "    <tr>\n",
       "      <td>4</td>\n",
       "      <td>80</td>\n",
       "      <td>2.180800</td>\n",
       "      <td>-0.295648</td>\n",
       "      <td>2.412134</td>\n",
       "      <td>0.359778</td>\n",
       "    </tr>\n",
       "    <tr>\n",
       "      <td>5</td>\n",
       "      <td>100</td>\n",
       "      <td>2.681343</td>\n",
       "      <td>-0.238231</td>\n",
       "      <td>1.305663</td>\n",
       "      <td>-0.330157</td>\n",
       "    </tr>\n",
       "    <tr>\n",
       "      <td>6</td>\n",
       "      <td>120</td>\n",
       "      <td>3.281197</td>\n",
       "      <td>0.141682</td>\n",
       "      <td>-2.025706</td>\n",
       "      <td>-0.202320</td>\n",
       "    </tr>\n",
       "    <tr>\n",
       "      <td>7</td>\n",
       "      <td>140</td>\n",
       "      <td>3.881050</td>\n",
       "      <td>0.083492</td>\n",
       "      <td>-0.881768</td>\n",
       "      <td>0.314883</td>\n",
       "    </tr>\n",
       "    <tr>\n",
       "      <td>8</td>\n",
       "      <td>160</td>\n",
       "      <td>4.481346</td>\n",
       "      <td>-0.143731</td>\n",
       "      <td>0.113397</td>\n",
       "      <td>-0.368510</td>\n",
       "    </tr>\n",
       "    <tr>\n",
       "      <td>9</td>\n",
       "      <td>180</td>\n",
       "      <td>5.081199</td>\n",
       "      <td>0.031303</td>\n",
       "      <td>0.240651</td>\n",
       "      <td>0.459441</td>\n",
       "    </tr>\n",
       "    <tr>\n",
       "      <td>10</td>\n",
       "      <td>200</td>\n",
       "      <td>5.681053</td>\n",
       "      <td>-0.146843</td>\n",
       "      <td>0.024746</td>\n",
       "      <td>-0.528299</td>\n",
       "    </tr>\n",
       "    <tr>\n",
       "      <td>11</td>\n",
       "      <td>220</td>\n",
       "      <td>6.280906</td>\n",
       "      <td>0.010343</td>\n",
       "      <td>-0.265586</td>\n",
       "      <td>-0.111156</td>\n",
       "    </tr>\n",
       "    <tr>\n",
       "      <td>12</td>\n",
       "      <td>240</td>\n",
       "      <td>6.880760</td>\n",
       "      <td>0.245147</td>\n",
       "      <td>0.051924</td>\n",
       "      <td>-0.064310</td>\n",
       "    </tr>\n",
       "    <tr>\n",
       "      <td>13</td>\n",
       "      <td>260</td>\n",
       "      <td>7.342147</td>\n",
       "      <td>-0.053989</td>\n",
       "      <td>0.036874</td>\n",
       "      <td>-0.313161</td>\n",
       "    </tr>\n",
       "  </tbody>\n",
       "</table>\n",
       "</div>"
      ],
      "text/plain": [
       "    Unnamed: 0  Time (s)  Acceleration x (m/s^2)  Acceleration y (m/s^2)  \\\n",
       "0            0  0.000000                0.168407               -0.169823   \n",
       "1           20  0.599851               -0.086218                0.033126   \n",
       "2           40  1.199707                0.068546               -0.101357   \n",
       "3           60  1.650595               -0.007800               -1.268885   \n",
       "4           80  2.180800               -0.295648                2.412134   \n",
       "5          100  2.681343               -0.238231                1.305663   \n",
       "6          120  3.281197                0.141682               -2.025706   \n",
       "7          140  3.881050                0.083492               -0.881768   \n",
       "8          160  4.481346               -0.143731                0.113397   \n",
       "9          180  5.081199                0.031303                0.240651   \n",
       "10         200  5.681053               -0.146843                0.024746   \n",
       "11         220  6.280906                0.010343               -0.265586   \n",
       "12         240  6.880760                0.245147                0.051924   \n",
       "13         260  7.342147               -0.053989                0.036874   \n",
       "\n",
       "    Acceleration z (m/s^2)  \n",
       "0                -0.028083  \n",
       "1                 0.015425  \n",
       "2                -0.064980  \n",
       "3                 0.062409  \n",
       "4                 0.359778  \n",
       "5                -0.330157  \n",
       "6                -0.202320  \n",
       "7                 0.314883  \n",
       "8                -0.368510  \n",
       "9                 0.459441  \n",
       "10               -0.528299  \n",
       "11               -0.111156  \n",
       "12               -0.064310  \n",
       "13               -0.313161  "
      ]
     },
     "execution_count": 20,
     "metadata": {},
     "output_type": "execute_result"
    }
   ],
   "source": [
    "one = pd.read_csv('pendulumdata/dataset3_v2.csv')\n",
    "one"
   ]
  },
  {
   "cell_type": "code",
   "execution_count": 21,
   "metadata": {},
   "outputs": [],
   "source": [
    "x_1 = one['Acceleration y (m/s^2)']"
   ]
  },
  {
   "cell_type": "code",
   "execution_count": 22,
   "metadata": {},
   "outputs": [
    {
     "data": {
      "text/plain": [
       "[<matplotlib.lines.Line2D at 0x26afdeb2048>]"
      ]
     },
     "execution_count": 22,
     "metadata": {},
     "output_type": "execute_result"
    },
    {
     "data": {
      "image/png": "[encoded data removed]",
      "text/plain": [
       "<Figure size 432x288 with 1 Axes>"
      ]
     },
     "metadata": {
      "needs_background": "light"
     },
     "output_type": "display_data"
    }
   ],
   "source": [
    "peaks_one, _ = signal.find_peaks(x_1, height=0)\n",
    "plt.plot(x_1)\n",
    "plt.plot(peaks_one, x_1[peaks_one], \"x\")"
   ]
  },
  {
   "cell_type": "code",
   "execution_count": 23,
   "metadata": {},
   "outputs": [
    {
     "data": {
      "text/plain": [
       "array([ 1,  4,  9, 12], dtype=int64)"
      ]
     },
     "execution_count": 23,
     "metadata": {},
     "output_type": "execute_result"
    }
   ],
   "source": [
    "peaks_one"
   ]
  },
  {
   "cell_type": "code",
   "execution_count": 24,
   "metadata": {
    "scrolled": true
   },
   "outputs": [
    {
     "data": {
      "text/plain": [
       "1.58"
      ]
     },
     "execution_count": 24,
     "metadata": {},
     "output_type": "execute_result"
    }
   ],
   "source": [
    "round(one['Time (s)'].iloc[4]-one['Time (s)'].iloc[1],2)"
   ]
  },
  {
   "cell_type": "code",
   "execution_count": 25,
   "metadata": {
    "scrolled": true
   },
   "outputs": [
    {
     "data": {
      "text/plain": [
       "1.7"
      ]
     },
     "execution_count": 25,
     "metadata": {},
     "output_type": "execute_result"
    }
   ],
   "source": [
    "round(one['Time (s)'].iloc[7]-one['Time (s)'].iloc[4],2)"
   ]
  },
  {
   "cell_type": "code",
   "execution_count": 26,
   "metadata": {
    "scrolled": true
   },
   "outputs": [
    {
     "data": {
      "text/plain": [
       "1.8"
      ]
     },
     "execution_count": 26,
     "metadata": {},
     "output_type": "execute_result"
    }
   ],
   "source": [
    "round(one['Time (s)'].iloc[12]-one['Time (s)'].iloc[9],2)"
   ]
  },
  {
   "cell_type": "code",
   "execution_count": 27,
   "metadata": {},
   "outputs": [
    {
     "data": {
      "text/html": [
       "<div>\n",
       "<style scoped>\n",
       "    .dataframe tbody tr th:only-of-type {\n",
       "        vertical-align: middle;\n",
       "    }\n",
       "\n",
       "    .dataframe tbody tr th {\n",
       "        vertical-align: top;\n",
       "    }\n",
       "\n",
       "    .dataframe thead th {\n",
       "        text-align: right;\n",
       "    }\n",
       "</style>\n",
       "<table border=\"1\" class=\"dataframe\">\n",
       "  <thead>\n",
       "    <tr style=\"text-align: right;\">\n",
       "      <th></th>\n",
       "      <th>t1</th>\n",
       "      <th>t2</th>\n",
       "      <th>x1</th>\n",
       "      <th>x2</th>\n",
       "      <th>T</th>\n",
       "      <th>delta</th>\n",
       "      <th>zeta</th>\n",
       "      <th>omega</th>\n",
       "    </tr>\n",
       "  </thead>\n",
       "  <tbody>\n",
       "    <tr>\n",
       "      <td>0</td>\n",
       "      <td>4.400000</td>\n",
       "      <td>5.50000</td>\n",
       "      <td>1.300000</td>\n",
       "      <td>2.410000</td>\n",
       "      <td>1.10000</td>\n",
       "      <td>-0.617262</td>\n",
       "      <td>-0.098240</td>\n",
       "      <td>5.711987</td>\n",
       "    </tr>\n",
       "    <tr>\n",
       "      <td>1</td>\n",
       "      <td>2.180800</td>\n",
       "      <td>3.88105</td>\n",
       "      <td>2.412134</td>\n",
       "      <td>0.240651</td>\n",
       "      <td>1.70025</td>\n",
       "      <td>2.304919</td>\n",
       "      <td>0.366839</td>\n",
       "      <td>3.695448</td>\n",
       "    </tr>\n",
       "    <tr>\n",
       "      <td>2</td>\n",
       "      <td>5.081199</td>\n",
       "      <td>6.88076</td>\n",
       "      <td>0.240651</td>\n",
       "      <td>0.051924</td>\n",
       "      <td>1.79956</td>\n",
       "      <td>1.533572</td>\n",
       "      <td>0.244076</td>\n",
       "      <td>3.491511</td>\n",
       "    </tr>\n",
       "  </tbody>\n",
       "</table>\n",
       "</div>"
      ],
      "text/plain": [
       "         t1       t2        x1        x2        T     delta      zeta  \\\n",
       "0  4.400000  5.50000  1.300000  2.410000  1.10000 -0.617262 -0.098240   \n",
       "1  2.180800  3.88105  2.412134  0.240651  1.70025  2.304919  0.366839   \n",
       "2  5.081199  6.88076  0.240651  0.051924  1.79956  1.533572  0.244076   \n",
       "\n",
       "      omega  \n",
       "0  5.711987  \n",
       "1  3.695448  \n",
       "2  3.491511  "
      ]
     },
     "execution_count": 27,
     "metadata": {},
     "output_type": "execute_result"
    }
   ],
   "source": [
    "t1 = [4.40,one['Time (s)'].iloc[4],one['Time (s)'].iloc[9]]\n",
    "nf1 = pd.DataFrame(t1)\n",
    "nf1.rename(columns={nf1.columns[0]:'t1'}, inplace=True)\n",
    "nf1['t2'] = [5.50, one['Time (s)'].iloc[7], one['Time (s)'].iloc[12]]\n",
    "nf1['x1'] = [1.30,one['Acceleration y (m/s^2)'].iloc[4],one['Acceleration y (m/s^2)'].iloc[9]]\n",
    "nf1['x2'] = [2.41, one['Acceleration y (m/s^2)'].iloc[9], one['Acceleration y (m/s^2)'].iloc[12]]\n",
    "nf1['T'] = nf1['t2'] - nf1['t1']\n",
    "nf1['delta'] = np.log(nf1['x1']/nf1['x2']) # np.log() stands for natural logarithm (ln)\n",
    "nf1['zeta'] = nf1['delta']/(2*math.pi)\n",
    "nf1['omega'] = nf1['delta']/(nf1['zeta']*nf1['T'])\n",
    "nf1.to_excel('nf3.xlsx')\n",
    "nf1"
   ]
  }
 ],
 "metadata": {
  "kernelspec": {
   "display_name": "Python 3",
   "language": "python",
   "name": "python3"
  },
  "language_info": {
   "codemirror_mode": {
    "name": "ipython",
    "version": 3
   },
   "file_extension": ".py",
   "mimetype": "text/x-python",
   "name": "python",
   "nbconvert_exporter": "python",
   "pygments_lexer": "ipython3",
   "version": "3.7.4"
  }
 },
 "nbformat": 4,
 "nbformat_minor": 2
}
